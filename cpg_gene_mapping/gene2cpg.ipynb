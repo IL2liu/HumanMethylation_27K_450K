{
 "cells": [
  {
   "cell_type": "code",
   "execution_count": 1,
   "metadata": {
    "collapsed": true
   },
   "outputs": [],
   "source": [
    "import pandas as pd\n",
    "import numpy as np"
   ]
  },
  {
   "cell_type": "code",
   "execution_count": 12,
   "metadata": {},
   "outputs": [
    {
     "data": {
      "text/plain": [
       "(485577, 2)"
      ]
     },
     "execution_count": 12,
     "metadata": {},
     "output_type": "execute_result"
    }
   ],
   "source": [
    "fireb = pd.read_csv('./data/hm450_cpg2manygene_firebrowse.lst', delim_whitespace=True,header=None)\n",
    "fireb.columns = ['CpG','Symbol']\n",
    "fireb.shape"
   ]
  },
  {
   "cell_type": "code",
   "execution_count": 45,
   "metadata": {
    "collapsed": true
   },
   "outputs": [],
   "source": [
    "def expand_cpgene_old(df) :\n",
    "    s = df['Symbol'].str.split(';').apply(pd.Series,1).stack()\n",
    "    i = s.index.get_level_values(0)\n",
    "    df2 = df.loc[i].copy()\n",
    "    df2[\"meth_gene\"] = s.values\n",
    "    df2.drop('Symbol', axis=1, inplace=True)\n",
    "    return df2\n",
    "\n",
    "def expand_cpgene(df) :\n",
    "    s = df['Symbol'].str.split(';').apply(pd.Series,1).stack()\n",
    "    s.index = s.index.droplevel(-1)\n",
    "    df2 = df.loc[s.index].copy()\n",
    "    df2[\"meth_gene\"] = s.values\n",
    "    df2.reset_index(drop=True,inplace=True)\n",
    "    return df2"
   ]
  },
  {
   "cell_type": "code",
   "execution_count": 86,
   "metadata": {},
   "outputs": [
    {
     "data": {
      "text/html": [
       "<div>\n",
       "<style>\n",
       "    .dataframe thead tr:only-child th {\n",
       "        text-align: right;\n",
       "    }\n",
       "\n",
       "    .dataframe thead th {\n",
       "        text-align: left;\n",
       "    }\n",
       "\n",
       "    .dataframe tbody tr th {\n",
       "        vertical-align: top;\n",
       "    }\n",
       "</style>\n",
       "<table border=\"1\" class=\"dataframe\">\n",
       "  <thead>\n",
       "    <tr style=\"text-align: right;\">\n",
       "      <th></th>\n",
       "      <th>CpG</th>\n",
       "      <th>meth_gene</th>\n",
       "    </tr>\n",
       "  </thead>\n",
       "  <tbody>\n",
       "    <tr>\n",
       "      <th>0</th>\n",
       "      <td>cg00000029</td>\n",
       "      <td>RBL2</td>\n",
       "    </tr>\n",
       "    <tr>\n",
       "      <th>1</th>\n",
       "      <td>cg00000108</td>\n",
       "      <td>C3orf35</td>\n",
       "    </tr>\n",
       "    <tr>\n",
       "      <th>2</th>\n",
       "      <td>cg00000109</td>\n",
       "      <td>FNDC3B</td>\n",
       "    </tr>\n",
       "    <tr>\n",
       "      <th>3</th>\n",
       "      <td>cg00000236</td>\n",
       "      <td>VDAC3</td>\n",
       "    </tr>\n",
       "    <tr>\n",
       "      <th>4</th>\n",
       "      <td>cg00000289</td>\n",
       "      <td>ACTN1</td>\n",
       "    </tr>\n",
       "    <tr>\n",
       "      <th>5</th>\n",
       "      <td>cg00000292</td>\n",
       "      <td>ATP2A1</td>\n",
       "    </tr>\n",
       "    <tr>\n",
       "      <th>6</th>\n",
       "      <td>cg00000321</td>\n",
       "      <td>SFRP1</td>\n",
       "    </tr>\n",
       "    <tr>\n",
       "      <th>7</th>\n",
       "      <td>cg00000622</td>\n",
       "      <td>NIPA2</td>\n",
       "    </tr>\n",
       "    <tr>\n",
       "      <th>8</th>\n",
       "      <td>cg00000658</td>\n",
       "      <td>MAN1B1</td>\n",
       "    </tr>\n",
       "    <tr>\n",
       "      <th>9</th>\n",
       "      <td>cg00000714</td>\n",
       "      <td>TSEN34</td>\n",
       "    </tr>\n",
       "    <tr>\n",
       "      <th>10</th>\n",
       "      <td>cg00000721</td>\n",
       "      <td>LRRC16A</td>\n",
       "    </tr>\n",
       "    <tr>\n",
       "      <th>11</th>\n",
       "      <td>cg00000734</td>\n",
       "      <td>CNBP</td>\n",
       "    </tr>\n",
       "    <tr>\n",
       "      <th>12</th>\n",
       "      <td>cg00000769</td>\n",
       "      <td>DDX55</td>\n",
       "    </tr>\n",
       "    <tr>\n",
       "      <th>13</th>\n",
       "      <td>cg00000807</td>\n",
       "      <td>KLHL29</td>\n",
       "    </tr>\n",
       "    <tr>\n",
       "      <th>14</th>\n",
       "      <td>cg00000884</td>\n",
       "      <td>TLR2</td>\n",
       "    </tr>\n",
       "    <tr>\n",
       "      <th>15</th>\n",
       "      <td>cg00000905</td>\n",
       "      <td>FAM81A</td>\n",
       "    </tr>\n",
       "    <tr>\n",
       "      <th>16</th>\n",
       "      <td>cg00000924</td>\n",
       "      <td>KCNQ1</td>\n",
       "    </tr>\n",
       "    <tr>\n",
       "      <th>17</th>\n",
       "      <td>cg00000924</td>\n",
       "      <td>KCNQ1OT1</td>\n",
       "    </tr>\n",
       "    <tr>\n",
       "      <th>18</th>\n",
       "      <td>cg00000957</td>\n",
       "      <td>NPHP4</td>\n",
       "    </tr>\n",
       "    <tr>\n",
       "      <th>19</th>\n",
       "      <td>cg00001099</td>\n",
       "      <td>PSKH2</td>\n",
       "    </tr>\n",
       "  </tbody>\n",
       "</table>\n",
       "</div>"
      ],
      "text/plain": [
       "           CpG meth_gene\n",
       "0   cg00000029      RBL2\n",
       "1   cg00000108   C3orf35\n",
       "2   cg00000109    FNDC3B\n",
       "3   cg00000236     VDAC3\n",
       "4   cg00000289     ACTN1\n",
       "5   cg00000292    ATP2A1\n",
       "6   cg00000321     SFRP1\n",
       "7   cg00000622     NIPA2\n",
       "8   cg00000658    MAN1B1\n",
       "9   cg00000714    TSEN34\n",
       "10  cg00000721   LRRC16A\n",
       "11  cg00000734      CNBP\n",
       "12  cg00000769     DDX55\n",
       "13  cg00000807    KLHL29\n",
       "14  cg00000884      TLR2\n",
       "15  cg00000905    FAM81A\n",
       "16  cg00000924     KCNQ1\n",
       "17  cg00000924  KCNQ1OT1\n",
       "18  cg00000957     NPHP4\n",
       "19  cg00001099     PSKH2"
      ]
     },
     "execution_count": 86,
     "metadata": {},
     "output_type": "execute_result"
    }
   ],
   "source": [
    "cpg2gene_1on1 = expand_cpgene(fireb)\n",
    "cpg2gene_1on1.drop('Symbol', axis=1, inplace=True)\n",
    "cpg2gene_1on1.head(20)"
   ]
  },
  {
   "cell_type": "code",
   "execution_count": 81,
   "metadata": {
    "collapsed": true
   },
   "outputs": [],
   "source": [
    "raw = pd.read_csv('./data/hm450_tcga_cpg_descriptions.txt', delim_whitespace=True)\n",
    "raw.columns = ['CpG',u'Chromosome', u'Start', u'End', u'Gene_Symbol', u'Gene_Type',\n",
    "       u'Transcript_ID', u'Position_to_TSS', u'CGI_Coordinate',\n",
    "       u'Feature_Type']\n",
    "raw = raw[['CpG', 'Gene_Symbol' , u'Chromosome', u'Start',u'End' ]]\n",
    "raw.loc[:,'Meth_genes'] = raw['Gene_Symbol'].apply(lambda x: list(set(x.split(';'))))\n",
    "raw = raw.drop('Gene_Symbol', axis=1)"
   ]
  },
  {
   "cell_type": "code",
   "execution_count": 84,
   "metadata": {
    "collapsed": true
   },
   "outputs": [],
   "source": [
    "cpg_location = raw.drop('Meth_genes', axis=1)"
   ]
  },
  {
   "cell_type": "code",
   "execution_count": 87,
   "metadata": {
    "collapsed": true
   },
   "outputs": [],
   "source": [
    "df = pd.merge(cpg_location, cpg2gene_1on1, how='inner')"
   ]
  },
  {
   "cell_type": "code",
   "execution_count": 121,
   "metadata": {},
   "outputs": [
    {
     "data": {
      "text/html": [
       "<div>\n",
       "<style>\n",
       "    .dataframe thead tr:only-child th {\n",
       "        text-align: right;\n",
       "    }\n",
       "\n",
       "    .dataframe thead th {\n",
       "        text-align: left;\n",
       "    }\n",
       "\n",
       "    .dataframe tbody tr th {\n",
       "        vertical-align: top;\n",
       "    }\n",
       "</style>\n",
       "<table border=\"1\" class=\"dataframe\">\n",
       "  <thead>\n",
       "    <tr style=\"text-align: right;\">\n",
       "      <th></th>\n",
       "      <th>CpG</th>\n",
       "      <th>Chromosome</th>\n",
       "      <th>Start</th>\n",
       "      <th>End</th>\n",
       "      <th>meth_gene</th>\n",
       "    </tr>\n",
       "  </thead>\n",
       "  <tbody>\n",
       "    <tr>\n",
       "      <th>0</th>\n",
       "      <td>cg00000029</td>\n",
       "      <td>chr16</td>\n",
       "      <td>53434200</td>\n",
       "      <td>53434201</td>\n",
       "      <td>RBL2</td>\n",
       "    </tr>\n",
       "    <tr>\n",
       "      <th>1</th>\n",
       "      <td>cg00000108</td>\n",
       "      <td>chr3</td>\n",
       "      <td>37417715</td>\n",
       "      <td>37417716</td>\n",
       "      <td>C3orf35</td>\n",
       "    </tr>\n",
       "    <tr>\n",
       "      <th>2</th>\n",
       "      <td>cg00000109</td>\n",
       "      <td>chr3</td>\n",
       "      <td>172198247</td>\n",
       "      <td>172198248</td>\n",
       "      <td>FNDC3B</td>\n",
       "    </tr>\n",
       "    <tr>\n",
       "      <th>3</th>\n",
       "      <td>cg00000236</td>\n",
       "      <td>chr8</td>\n",
       "      <td>42405776</td>\n",
       "      <td>42405777</td>\n",
       "      <td>VDAC3</td>\n",
       "    </tr>\n",
       "    <tr>\n",
       "      <th>4</th>\n",
       "      <td>cg00000289</td>\n",
       "      <td>chr14</td>\n",
       "      <td>68874422</td>\n",
       "      <td>68874423</td>\n",
       "      <td>ACTN1</td>\n",
       "    </tr>\n",
       "  </tbody>\n",
       "</table>\n",
       "</div>"
      ],
      "text/plain": [
       "          CpG Chromosome      Start        End meth_gene\n",
       "0  cg00000029      chr16   53434200   53434201      RBL2\n",
       "1  cg00000108       chr3   37417715   37417716   C3orf35\n",
       "2  cg00000109       chr3  172198247  172198248    FNDC3B\n",
       "3  cg00000236       chr8   42405776   42405777     VDAC3\n",
       "4  cg00000289      chr14   68874422   68874423     ACTN1"
      ]
     },
     "execution_count": 121,
     "metadata": {},
     "output_type": "execute_result"
    }
   ],
   "source": [
    "df['CpG'] = df['CpG'].astype(str)\n",
    "df.head()"
   ]
  },
  {
   "cell_type": "code",
   "execution_count": 144,
   "metadata": {
    "collapsed": true
   },
   "outputs": [],
   "source": [
    "#df2 = (df[(df['Chromosome'] != 'chrX') | (df['Chromosome']!='chrY') | (df['Chromosome']!='*') ])\n",
    "df2 = df[df['Chromosome'].isin(['chrX','chrY','*']) == False] \n",
    "\n",
    "df2.to_csv('./data/cpg2manygene_description.lst', index=False)\n",
    "df2[['CpG','meth_gene']].to_csv('./data/cpg2manygene.lst', index=False)"
   ]
  },
  {
   "cell_type": "code",
   "execution_count": 152,
   "metadata": {},
   "outputs": [
    {
     "data": {
      "text/plain": [
       "((407090, 5), (393562, 5))"
      ]
     },
     "execution_count": 152,
     "metadata": {},
     "output_type": "execute_result"
    }
   ],
   "source": [
    "df.shape,df2.shape"
   ]
  },
  {
   "cell_type": "code",
   "execution_count": 153,
   "metadata": {},
   "outputs": [
    {
     "data": {
      "text/plain": [
       "chr1     39421\n",
       "chr6     29613\n",
       "chr2     26133\n",
       "chr11    25396\n",
       "chr17    25352\n",
       "chr19    24484\n",
       "chr5     23950\n",
       "chr7     23843\n",
       "chr3     21095\n",
       "chr12    19918\n",
       "chr10    18496\n",
       "chr16    17914\n",
       "chr4     15413\n",
       "chr8     14860\n",
       "chr15    12421\n",
       "chr14    12103\n",
       "chr20     9915\n",
       "chr13     8664\n",
       "chr9      8193\n",
       "chr22     7897\n",
       "chr18     4868\n",
       "chr21     3613\n",
       "Name: Chromosome, dtype: int64"
      ]
     },
     "execution_count": 153,
     "metadata": {},
     "output_type": "execute_result"
    }
   ],
   "source": [
    "df2.Chromosome.value_counts()"
   ]
  },
  {
   "cell_type": "code",
   "execution_count": 123,
   "metadata": {
    "collapsed": true
   },
   "outputs": [],
   "source": [
    "df3 = df.groupby('meth_gene', group_keys=True).apply(lambda x: x.sort_values(['Chromosome','Start']))"
   ]
  },
  {
   "cell_type": "code",
   "execution_count": 162,
   "metadata": {},
   "outputs": [
    {
     "data": {
      "text/html": [
       "<div>\n",
       "<style>\n",
       "    .dataframe thead tr:only-child th {\n",
       "        text-align: right;\n",
       "    }\n",
       "\n",
       "    .dataframe thead th {\n",
       "        text-align: left;\n",
       "    }\n",
       "\n",
       "    .dataframe tbody tr th {\n",
       "        vertical-align: top;\n",
       "    }\n",
       "</style>\n",
       "<table border=\"1\" class=\"dataframe\">\n",
       "  <thead>\n",
       "    <tr style=\"text-align: right;\">\n",
       "      <th></th>\n",
       "      <th></th>\n",
       "      <th>CpG</th>\n",
       "      <th>Chromosome</th>\n",
       "      <th>Start</th>\n",
       "      <th>End</th>\n",
       "      <th>meth_gene</th>\n",
       "    </tr>\n",
       "    <tr>\n",
       "      <th>meth_gene</th>\n",
       "      <th></th>\n",
       "      <th></th>\n",
       "      <th></th>\n",
       "      <th></th>\n",
       "      <th></th>\n",
       "      <th></th>\n",
       "    </tr>\n",
       "  </thead>\n",
       "  <tbody>\n",
       "    <tr>\n",
       "      <th rowspan=\"5\" valign=\"top\">A1BG</th>\n",
       "      <th>53439</th>\n",
       "      <td>cg03123289</td>\n",
       "      <td>chr19</td>\n",
       "      <td>58347269</td>\n",
       "      <td>58347270</td>\n",
       "      <td>A1BG</td>\n",
       "    </tr>\n",
       "    <tr>\n",
       "      <th>331766</th>\n",
       "      <td>cg22286978</td>\n",
       "      <td>chr19</td>\n",
       "      <td>58347440</td>\n",
       "      <td>58347441</td>\n",
       "      <td>A1BG</td>\n",
       "    </tr>\n",
       "    <tr>\n",
       "      <th>170689</th>\n",
       "      <td>cg10734734</td>\n",
       "      <td>chr19</td>\n",
       "      <td>58347655</td>\n",
       "      <td>58347656</td>\n",
       "      <td>A1BG</td>\n",
       "    </tr>\n",
       "    <tr>\n",
       "      <th>174399</th>\n",
       "      <td>cg11001216</td>\n",
       "      <td>chr19</td>\n",
       "      <td>58347663</td>\n",
       "      <td>58347664</td>\n",
       "      <td>A1BG</td>\n",
       "    </tr>\n",
       "    <tr>\n",
       "      <th>221559</th>\n",
       "      <td>cg14222245</td>\n",
       "      <td>chr19</td>\n",
       "      <td>58350136</td>\n",
       "      <td>58350137</td>\n",
       "      <td>A1BG</td>\n",
       "    </tr>\n",
       "  </tbody>\n",
       "</table>\n",
       "</div>"
      ],
      "text/plain": [
       "                         CpG Chromosome     Start       End meth_gene\n",
       "meth_gene                                                            \n",
       "A1BG      53439   cg03123289      chr19  58347269  58347270      A1BG\n",
       "          331766  cg22286978      chr19  58347440  58347441      A1BG\n",
       "          170689  cg10734734      chr19  58347655  58347656      A1BG\n",
       "          174399  cg11001216      chr19  58347663  58347664      A1BG\n",
       "          221559  cg14222245      chr19  58350136  58350137      A1BG"
      ]
     },
     "execution_count": 162,
     "metadata": {},
     "output_type": "execute_result"
    }
   ],
   "source": [
    "df3.head()"
   ]
  },
  {
   "cell_type": "code",
   "execution_count": 154,
   "metadata": {
    "collapsed": true
   },
   "outputs": [],
   "source": [
    "df4 = df2.groupby('meth_gene')['CpG'].apply(list)\n",
    "df5 = df4.apply(lambda x: ' ,'.join(x))"
   ]
  },
  {
   "cell_type": "code",
   "execution_count": 155,
   "metadata": {},
   "outputs": [
    {
     "data": {
      "text/plain": [
       "meth_gene\n",
       "A1BG     [cg02957155, cg03123289, cg03630821, cg0426968...\n",
       "A1CF     [cg03817621, cg10222734, cg16531903, cg2441194...\n",
       "A2BP1    [cg00019838, cg00036119, cg00099017, cg0020575...\n",
       "A2LD1    [cg00336946, cg01723761, cg02425595, cg0273550...\n",
       "A2M      [cg00134295, cg00141925, cg00146928, cg0801204...\n",
       "Name: CpG, dtype: object"
      ]
     },
     "execution_count": 155,
     "metadata": {},
     "output_type": "execute_result"
    }
   ],
   "source": [
    "df4.head()"
   ]
  },
  {
   "cell_type": "code",
   "execution_count": 163,
   "metadata": {},
   "outputs": [
    {
     "data": {
      "text/plain": [
       "meth_gene\n",
       "A1BG     cg02957155 ,cg03123289 ,cg03630821 ,cg04269689...\n",
       "A1CF     cg03817621 ,cg10222734 ,cg16531903 ,cg24411946...\n",
       "A2BP1    cg00019838 ,cg00036119 ,cg00099017 ,cg00205756...\n",
       "A2LD1    cg00336946 ,cg01723761 ,cg02425595 ,cg02735500...\n",
       "A2M      cg00134295 ,cg00141925 ,cg00146928 ,cg08012045...\n",
       "Name: CpG, dtype: object"
      ]
     },
     "execution_count": 163,
     "metadata": {},
     "output_type": "execute_result"
    }
   ],
   "source": [
    "df5.head()"
   ]
  },
  {
   "cell_type": "code",
   "execution_count": null,
   "metadata": {
    "collapsed": true
   },
   "outputs": [],
   "source": [
    "df5.to_csv('./data/gene2cpg_unique.lst', sep='\\t', index=True)"
   ]
  }
 ],
 "metadata": {
  "kernelspec": {
   "display_name": "Python 2",
   "language": "python",
   "name": "python2"
  },
  "language_info": {
   "codemirror_mode": {
    "name": "ipython",
    "version": 2
   },
   "file_extension": ".py",
   "mimetype": "text/x-python",
   "name": "python",
   "nbconvert_exporter": "python",
   "pygments_lexer": "ipython2",
   "version": "2.7.13"
  }
 },
 "nbformat": 4,
 "nbformat_minor": 2
}
